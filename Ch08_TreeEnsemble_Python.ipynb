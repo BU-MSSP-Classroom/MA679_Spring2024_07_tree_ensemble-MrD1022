{
 "cells": [
  {
   "cell_type": "markdown",
   "id": "d44e3904",
   "metadata": {},
   "source": [
    "# Class Workbook {.tabset .tabset-fade .tabset-pills}"
   ]
  },
  {
   "cell_type": "markdown",
   "id": "a139ed8f",
   "metadata": {},
   "source": [
    "## In class activity"
   ]
  },
  {
   "cell_type": "code",
   "execution_count": 21,
   "id": "ec6c3ae3",
   "metadata": {
    "kernel": "Python3",
    "tags": [
     "report_cell"
    ]
   },
   "outputs": [],
   "source": [
    "import numpy as np\n",
    "import pandas as pd\n",
    "import math\n",
    "from matplotlib.pyplot import subplots\n",
    "from sklearn.tree import DecisionTreeRegressor\n",
    "from sklearn.metrics import mean_squared_error\n",
    "from sklearn.tree import plot_tree\n",
    "import statsmodels.api as sm\n",
    "from plotnine import *\n",
    "import plotly.express as px\n",
    "import statsmodels.formula.api as sm\n",
    "import ISLP as islp"
   ]
  },
  {
   "cell_type": "markdown",
   "id": "a006f7cf",
   "metadata": {},
   "source": [
    "### Bank Credit Data\n",
    "\n",
    "Please take a look at the following credit scoring data set. This data was used to predict defaults on consumer loans. The data contains  1000 rows and 21 variables:"
   ]
  },
  {
   "cell_type": "code",
   "execution_count": 2,
   "id": "dc73a6c7",
   "metadata": {
    "kernel": "Python3",
    "tags": [
     "report_cell"
    ]
   },
   "outputs": [],
   "source": [
    "credit_data=pd.read_csv(\"credit_data.csv\")"
   ]
  },
  {
   "cell_type": "markdown",
   "id": "aeb90aeb",
   "metadata": {},
   "source": [
    "Here are the variables.\n",
    "\n",
    "- BAD: factor, GOOD/BAD for whether a customer has defaulted on a loan. This is the outcome or target in this dataset\n",
    "- Account_status: factor, status of existing checking account\n",
    "- Duration: numeric, loan duration in month\n",
    "- Credit_history: factor, previous credit history\n",
    "- Purpose: factor, loan purpose\n",
    "- Amount: numeric, credit amount\n",
    "- Savings: factor, savings account/bonds\n",
    "- Employment: factor, present employment since\n",
    "- Installment_rate: numeric, installment rate in percentage of disposable income\n",
    "- Guarantors: factor, other debtors / guarantors\n",
    "- Resident_since: factor, present residence since\n",
    "- Property: factor, property\n",
    "- Age: numeric, age in years\n",
    "- Other_plans: factor, other installment plans (bank ,none, stores )\n",
    "- Housing: factor, housing\n",
    "- Num_credits: numeric, Number of existing credits at this bank\n",
    "- Job: factor, job( management / self-employed / highly qualified employee / officer; skilled employee / official ; unemployed / unskilled - non-resident ; unskilled - resident )\n",
    "- People_maintenance: numeric, number of people being liable to provide maintenance for\n",
    "- Phone: factor, telephone (none ; yes, registered under the customers name )\n",
    "- Foreign: factor, foreign worker ( no ; yes )\n",
    "- Female: factor, female/male for gender\n",
    "\n",
    "Create a predictive model that predicts the outcome `BAD`."
   ]
  },
  {
   "cell_type": "code",
   "execution_count": 3,
   "id": "5abe777b",
   "metadata": {
    "kernel": "Python3",
    "tags": [
     "report_cell"
    ]
   },
   "outputs": [],
   "source": [
    "from sklearn.model_selection import train_test_split\n",
    "# split the data\n",
    "X_train, X_test, y_train, y_test = train_test_split(credit_data.loc[:,credit_data.columns != \"BAD\"], credit_data.loc[:,\"BAD\"], test_size=0.33, random_state=42)\n",
    "\n",
    "credit_data_train  = pd.concat([X_train, y_train], axis=1)\n",
    "credit_data_valid  = pd.concat([X_test, y_test], axis=1)"
   ]
  },
  {
   "cell_type": "markdown",
   "id": "c47e7826",
   "metadata": {},
   "source": [
    "Evaluate your model performance.  What criteria do you think will be appropriate."
   ]
  },
  {
   "cell_type": "code",
   "execution_count": null,
   "id": "4cc8f5cd",
   "metadata": {
    "kernel": "Python3",
    "tags": [
     "report_cell"
    ]
   },
   "outputs": [],
   "source": [
    "\n"
   ]
  },
  {
   "cell_type": "markdown",
   "id": "7ea3b6cd",
   "metadata": {},
   "source": [
    "Comment of the result:\n",
    "\n",
    "~~~\n",
    "Please write your answer in full sentences.\n",
    "\n",
    "\n",
    "~~~"
   ]
  },
  {
   "cell_type": "markdown",
   "id": "a14d35ee",
   "metadata": {},
   "source": [
    "### Ames Housing data\n",
    "\n",
    "Please take a look at the Ames Housing data."
   ]
  },
  {
   "cell_type": "code",
   "execution_count": 5,
   "id": "9db1f2e8",
   "metadata": {
    "kernel": "Python3",
    "tags": [
     "report_cell"
    ]
   },
   "outputs": [],
   "source": [
    "ames_raw=pd.read_csv(\"ames_raw.csv\")"
   ]
  },
  {
   "cell_type": "markdown",
   "id": "ed00790e",
   "metadata": {},
   "source": [
    "Use data of `ames_raw` up to 2008 predict the housing price for the later years."
   ]
  },
  {
   "cell_type": "code",
   "execution_count": 31,
   "id": "47e92069",
   "metadata": {
    "Rmd_chunk_options": "echo=show_code",
    "kernel": "Python3",
    "tags": [
     "report_cell"
    ]
   },
   "outputs": [],
   "source": [
    "# Do feature engineering if needed.\n",
    "ames_raw_2009, ames_raw_2008= ames_raw.query('`Yr Sold`>=2008').copy(), ames_raw.query('`Yr Sold` <2008').copy()\n",
    "#ames_raw_2008 = ames_raw_2008.dropna()\n",
    "#ames_raw_2009 = ames_raw_2009.dropna() # For GBR"
   ]
  },
  {
   "cell_type": "markdown",
   "id": "6a64eea5",
   "metadata": {},
   "source": [
    "Use the same loss function calculator."
   ]
  },
  {
   "cell_type": "code",
   "execution_count": 32,
   "id": "b50d822d",
   "metadata": {
    "Rmd_chunk_options": "echo=show_code",
    "kernel": "Python3",
    "tags": [
     "report_cell"
    ]
   },
   "outputs": [],
   "source": [
    "def calc_loss(prediction,actual):\n",
    "  difpred = actual-prediction\n",
    "  RMSE =pow(difpred.pow(2).mean(),1/2)\n",
    "  operation_loss=abs(sum(difpred[difpred<0]))+sum(0.1*actual[difpred>0])\n",
    "  return RMSE,operation_loss"
   ]
  },
  {
   "cell_type": "markdown",
   "id": "2bf99443",
   "metadata": {},
   "source": [
    "Apply CART and try to interpret the result that you get.  Be sure to fit the models on a training set and evaluate their performance on a test set.  Does it have a good prediction accuracy?"
   ]
  },
  {
   "cell_type": "code",
   "execution_count": 36,
   "id": "792042dd",
   "metadata": {
    "kernel": "Python3",
    "tags": [
     "report_cell"
    ]
   },
   "outputs": [
    {
     "name": "stdout",
     "output_type": "stream",
     "text": [
      "MSE in CART: 1427781152.49441\n",
      "MSE and loss in CART: (37785.99148486659, 36655916.099999994)\n",
      "MSE and loss in NULL: (82560.22945651703, 52461756.16646382)\n"
     ]
    }
   ],
   "source": [
    "model_ames_cart = DecisionTreeRegressor(random_state=42)\n",
    "cols = {'Year Built', 'Year Remod/Add', 'Gr Liv Area', \n",
    "        'Total Bsmt SF', 'Garage Area', 'Overall Cond', 'Overall Qual', 'Garage Cars'}\n",
    "ames_raw_2008 = ames_raw_2008.dropna(subset=list(cols))\n",
    "ames_raw_2009 = ames_raw_2009.dropna(subset=list(cols))\n",
    "X_train = ames_raw_2008[['Year Built', 'Year Remod/Add', 'Gr Liv Area', \n",
    "                         'Total Bsmt SF', 'Garage Area', 'Overall Cond', 'Overall Qual', 'Garage Cars']]\n",
    "y_train = ames_raw_2008['SalePrice']\n",
    "X_test = ames_raw_2009[['Year Built', 'Year Remod/Add', 'Gr Liv Area', \n",
    "                         'Total Bsmt SF', 'Garage Area', 'Overall Cond', 'Overall Qual', 'Garage Cars']]\n",
    "y_test = ames_raw_2009['SalePrice']\n",
    "\n",
    "model_ames_cart.fit(X_train, y_train)\n",
    "pred = model_ames_cart.predict(X_test)\n",
    "mse = mean_squared_error(y_test, pred)\n",
    "y_train_mean = np.mean(y_train)\n",
    "print(f'MSE in CART: {mse}')\n",
    "loss_cart = calc_loss(pred,y_test)\n",
    "loss_null = calc_loss(y_train_mean, y_train)\n",
    "print(f'MSE and loss in CART: {loss_cart}')\n",
    "print(f'MSE and loss in NULL: {loss_null}')"
   ]
  },
  {
   "cell_type": "markdown",
   "id": "26e3d1d4",
   "metadata": {},
   "source": []
  },
  {
   "cell_type": "markdown",
   "id": "e324fb1d",
   "metadata": {},
   "source": [
    "Comment of the result:\n",
    "\n",
    "~~~\n",
    "CART model reduces both MSE and loss compared to the null model.\n",
    "~~~\n",
    "\n",
    "Apply boosting, bagging, random forests, and BART to the Ames Housing data set. Be sure to fit the models on a training set and evaluate their performance on a test set. How accurate are the results compared to simple linear regression methods? Which of these approaches yields the best performance?"
   ]
  },
  {
   "cell_type": "code",
   "execution_count": 40,
   "id": "c4c54622",
   "metadata": {
    "kernel": "Python3",
    "tags": [
     "report_cell"
    ]
   },
   "outputs": [
    {
     "name": "stdout",
     "output_type": "stream",
     "text": [
      "MSE and loss in NULL: (82560.22945651703, 52461756.16646382)\n",
      "MSE and loss in Linear Model: (35033.739597351545, 33682878.70744643)\n",
      "MSE and loss in Boosting: (29820.25659547913, 30205851.840445776)\n",
      "MSE and loss in Bagging: (32154.749902162184, 33267792.896481592)\n",
      "MSE and loss in Random Forest: (37678.360172209854, 39186288.11325559)\n"
     ]
    }
   ],
   "source": [
    "from sklearn.ensemble import GradientBoostingRegressor, BaggingRegressor, RandomForestRegressor\n",
    "from sklearn.linear_model import LinearRegression\n",
    "from ISLP.bart import BART\n",
    "print(f'MSE and loss in NULL: {loss_null}')\n",
    "# Create models\n",
    "GBR = GradientBoostingRegressor(max_depth=3, min_samples_split=2)\n",
    "BR = BaggingRegressor(max_samples=0.5, max_features=0.5)\n",
    "RFR = RandomForestRegressor(max_depth=3, min_samples_split=2)\n",
    "lm = LinearRegression()\n",
    "bart = BART()\n",
    "# Linear\n",
    "lm.fit(X_train, y_train)\n",
    "pred = lm.predict(X_test)\n",
    "mse = mean_squared_error(y_test, pred)\n",
    "loss_lm = calc_loss(pred, y_test)\n",
    "print(f'MSE and loss in Linear Model: {loss_lm}')\n",
    "# Boosting\n",
    "GBR.fit(X_train, y_train)\n",
    "pred = GBR.predict(X_test)\n",
    "mse = mean_squared_error(y_test, pred)\n",
    "loss_gbr = calc_loss(pred, y_test)\n",
    "print(f'MSE and loss in Boosting: {loss_gbr}')\n",
    "# Bagging\n",
    "BR.fit(X_train, y_train)\n",
    "pred = BR.predict(X_test)\n",
    "mse = mean_squared_error(y_test, pred)\n",
    "loss_br = calc_loss(pred, y_test)\n",
    "print(f'MSE and loss in Bagging: {loss_br}')\n",
    "# Random Forest\n",
    "RFR.fit(X_train, y_train)\n",
    "pred = RFR.predict(X_test)\n",
    "mse = mean_squared_error(y_test, pred)\n",
    "loss_rfr = calc_loss(pred, y_test)\n",
    "print(f'MSE and loss in Random Forest: {loss_rfr}')\n",
    "\n",
    "# BART\n",
    "# bart.fit(X_train, y_train)\n",
    "# pred = bart.predict(X_test)\n",
    "# mse = mean_squared_error(y_test, pred)\n",
    "# loss_bart = calc_loss(pred, y_test)\n",
    "# print(f'MSE and loss in BART: {loss_bart}')'\n",
    "# fail to operate BART because data contain non-numeric variables"
   ]
  },
  {
   "cell_type": "markdown",
   "id": "8740594b",
   "metadata": {},
   "source": [
    "Comment of the result:\n",
    "\n",
    "~~~\n",
    "It seems boosting performs least MSE and loss for selected variables. \n",
    "~~~"
   ]
  },
  {
   "cell_type": "markdown",
   "id": "1cccc280",
   "metadata": {},
   "source": [
    "## Problem Set"
   ]
  },
  {
   "cell_type": "markdown",
   "id": "1bbbb9e6",
   "metadata": {},
   "source": [
    "### Boston\n",
    "\n",
    "\n",
    "In Section 8.3.3, we applied random forests to the Boston data using max_features = 6 and using n_estimators = 100 and n_estimators = 500. Create a plot displaying the test error resulting from random forests on this data set for a more comprehensive range of values for max_features and n_estimators. You can model your plot after Figure 8.10. Describe the results obtained."
   ]
  },
  {
   "cell_type": "code",
   "execution_count": 48,
   "id": "46ebdbe8",
   "metadata": {
    "kernel": "Python3",
    "tags": [
     "report_cell"
    ]
   },
   "outputs": [
    {
     "data": {
      "text/plain": [
       "14.39086945929276"
      ]
     },
     "execution_count": 48,
     "metadata": {},
     "output_type": "execute_result"
    },
    {
     "data": {
      "image/png": "[encoded data removed]",
      "text/plain": [
       "<Figure size 800x800 with 1 Axes>"
      ]
     },
     "metadata": {},
     "output_type": "display_data"
    }
   ],
   "source": [
    "from ISLP import load_data\n",
    "import sklearn.model_selection as skm\n",
    "from ISLP.models import ModelSpec as MS\n",
    "Boston = load_data(\"Boston\")\n",
    "model = MS(Boston.columns.drop('medv'), intercept=False)\n",
    "D = model.fit_transform(Boston)\n",
    "feature_names = list(D.columns)\n",
    "X = np.asarray(D)\n",
    "(X_train,\n",
    " X_test,\n",
    " y_train,\n",
    " y_test) = skm.train_test_split(X,\n",
    "                                Boston['medv'],\n",
    "                                test_size=0.3,\n",
    "                                random_state=0)\n",
    "RF_boston = RandomForestRegressor(max_features=12, random_state=0, n_estimators=80).fit(X_train, y_train)\n",
    "ax = subplots(figsize=(8,8))[1]\n",
    "y_hat_RF = RF_boston.predict(X_test)\n",
    "ax.scatter(y_hat_RF, y_test)\n",
    "np.mean((y_test - y_hat_RF)**2)"
   ]
  },
  {
   "cell_type": "markdown",
   "id": "2b9faaf0",
   "metadata": {},
   "source": [
    "###\n",
    "\n",
    "In the lab, a classification tree was applied to the Carseats data set after converting Sales into a qualitative response variable. Now we will seek to predict Sales using regression trees and related approaches, treating the response as a quantitative variable."
   ]
  },
  {
   "cell_type": "code",
   "execution_count": 55,
   "id": "4cad2376",
   "metadata": {
    "kernel": "Python3",
    "tags": [
     "report_cell"
    ]
   },
   "outputs": [],
   "source": [
    "from sklearn.compose import ColumnTransformer\n",
    "from sklearn.preprocessing import OneHotEncoder\n",
    "Carseats = load_data(\"Carseats\")"
   ]
  },
  {
   "cell_type": "markdown",
   "id": "038f32c9",
   "metadata": {},
   "source": [
    "(a) Split the data set into a training set and a test set."
   ]
  },
  {
   "cell_type": "code",
   "execution_count": 57,
   "id": "b6a0513c",
   "metadata": {
    "kernel": "Python3",
    "tags": [
     "report_cell"
    ]
   },
   "outputs": [],
   "source": [
    "X = Carseats.drop('Sales', axis=1)\n",
    "y = Carseats['Sales']\n",
    "X_train, X_test, y_train, y_test = train_test_split(X, y, test_size=0.2, random_state=42)\n",
    "string_categorical_cols = ['ShelveLoc', 'Urban', 'US']\n",
    "one_hot_encoder = ColumnTransformer(transformers=[\n",
    "    ('encoder', OneHotEncoder(), string_categorical_cols)],\n",
    "    remainder='passthrough')\n",
    "\n",
    "X_train_encoded = one_hot_encoder.fit_transform(X_train)\n",
    "X_test_encoded = one_hot_encoder.transform(X_test)\n",
    "\n"
   ]
  },
  {
   "cell_type": "markdown",
   "id": "8be38c78",
   "metadata": {},
   "source": [
    "(b) Fit a regression tree to the training set. Plot the tree, and interpret the results. What test MSE do you obtain?"
   ]
  },
  {
   "cell_type": "code",
   "execution_count": 65,
   "id": "53cf235e",
   "metadata": {
    "kernel": "Python3",
    "tags": [
     "report_cell"
    ]
   },
   "outputs": [
    {
     "name": "stdout",
     "output_type": "stream",
     "text": [
      "MSE: 4.93079315120333\n"
     ]
    },
    {
     "data": {
      "image/png": "[encoded data removed]",
      "text/plain": [
       "<Figure size 640x480 with 1 Axes>"
      ]
     },
     "metadata": {},
     "output_type": "display_data"
    }
   ],
   "source": [
    "import matplotlib.pyplot as plt\n",
    "model_car_reg = DecisionTreeRegressor(max_depth=6).fit(X_train_encoded, y_train)\n",
    "pred = model_car_reg.predict(X_test_encoded)\n",
    "colnames = one_hot_encoder.get_feature_names_out()\n",
    "mse = mean_squared_error(y_test, pred)\n",
    "print(f\"MSE: {mse}\")\n",
    "plot_tree(model_car_reg, filled=True, feature_names=colnames)\n",
    "plt.show()"
   ]
  },
  {
   "cell_type": "markdown",
   "id": "0374a191",
   "metadata": {},
   "source": [
    "(c) Use cross-validation in order to determine the optimal level of tree complexity. Does pruning the tree improve the test MSE?"
   ]
  },
  {
   "cell_type": "code",
   "execution_count": 84,
   "id": "dd2a267b",
   "metadata": {
    "kernel": "Python3",
    "tags": [
     "report_cell"
    ]
   },
   "outputs": [
    {
     "name": "stdout",
     "output_type": "stream",
     "text": [
      "{'ccp_alpha': 0.05474291666666509}\n",
      "-3.3926247132284075\n"
     ]
    },
    {
     "data": {
      "image/png": "[encoded data removed]",
      "text/plain": [
       "<Figure size 640x480 with 1 Axes>"
      ]
     },
     "metadata": {},
     "output_type": "display_data"
    }
   ],
   "source": [
    "# ChatGPT\n",
    "from sklearn.model_selection import KFold, GridSearchCV\n",
    "ccp_path = model_car_reg.cost_complexity_pruning_path(X_train_encoded, y_train)\n",
    "kfold = KFold(n_splits=10, shuffle=True, random_state=1)\n",
    "grid = GridSearchCV(model_car_reg, param_grid={'ccp_alpha': ccp_path.ccp_alphas}, refit = True, \n",
    "                    cv=kfold, scoring='neg_mean_squared_error')\n",
    "grid.fit(X_train_encoded, y_train)\n",
    "print(grid.best_params_)\n",
    "print(grid.best_score_)\n",
    "pred = grid.fit(X_train_encoded, y_train)\n",
    "# param_grid = {'max_depth': range(1, 20)}\n",
    "# grid_search = GridSearchCV(model_car_reg, param_grid, cv=5, scoring='neg_mean_squared_error')\n",
    "# grid_search.fit(X_train_encoded, y_train)\n",
    "best_ccp_alpha = grid.best_params_['ccp_alpha']\n",
    "model_opt = DecisionTreeRegressor(ccp_alpha=best_ccp_alpha).fit(X_train_encoded, y_train)\n",
    "plot_tree(model_opt, filled=True, feature_names=colnames)\n",
    "plt.show()"
   ]
  },
  {
   "cell_type": "markdown",
   "id": "47a8eaa9",
   "metadata": {},
   "source": [
    "(d) Use the bagging approach in order to analyze this data. What\n",
    "test MSE do you obtain? Use the feature_importance_ values to\n",
    "determine which variables are most important."
   ]
  },
  {
   "cell_type": "code",
   "execution_count": 91,
   "id": "1aa5fc4c",
   "metadata": {
    "kernel": "Python3",
    "tags": [
     "report_cell"
    ]
   },
   "outputs": [
    {
     "name": "stdout",
     "output_type": "stream",
     "text": [
      "MSE: 3.342378825000001\n"
     ]
    },
    {
     "ename": "AttributeError",
     "evalue": "'BaggingRegressor' object has no attribute 'feature_importances_'",
     "output_type": "error",
     "traceback": [
      "\u001b[1;31m---------------------------------------------------------------------------\u001b[0m",
      "\u001b[1;31mAttributeError\u001b[0m                            Traceback (most recent call last)",
      "Cell \u001b[1;32mIn[91], line 10\u001b[0m\n\u001b[0;32m      5\u001b[0m \u001b[38;5;28mprint\u001b[39m(\u001b[38;5;124mf\u001b[39m\u001b[38;5;124m\"\u001b[39m\u001b[38;5;124mMSE: \u001b[39m\u001b[38;5;132;01m{\u001b[39;00mmse\u001b[38;5;132;01m}\u001b[39;00m\u001b[38;5;124m\"\u001b[39m)\n\u001b[0;32m      6\u001b[0m feature_importances \u001b[38;5;241m=\u001b[39m np\u001b[38;5;241m.\u001b[39mmean([\n\u001b[0;32m      7\u001b[0m         est\u001b[38;5;241m.\u001b[39mfeature_importances_ \u001b[38;5;28;01mfor\u001b[39;00m est \u001b[38;5;129;01min\u001b[39;00m car_bag\u001b[38;5;241m.\u001b[39mestimators_\n\u001b[0;32m      8\u001b[0m     ], axis\u001b[38;5;241m=\u001b[39m\u001b[38;5;241m0\u001b[39m)\n\u001b[1;32m---> 10\u001b[0m feature_imp \u001b[38;5;241m=\u001b[39m pd\u001b[38;5;241m.\u001b[39mDataFrame({\u001b[38;5;124m\"\u001b[39m\u001b[38;5;124mimportance\u001b[39m\u001b[38;5;124m\"\u001b[39m:\u001b[43mcar_bag\u001b[49m\u001b[38;5;241;43m.\u001b[39;49m\u001b[43mfeature_importances_\u001b[49m}, index\u001b[38;5;241m=\u001b[39mX_train\u001b[38;5;241m.\u001b[39mcolumns)\n\u001b[0;32m     11\u001b[0m feature_imp\u001b[38;5;241m.\u001b[39msort_values(by\u001b[38;5;241m=\u001b[39m\u001b[38;5;124m\"\u001b[39m\u001b[38;5;124mimportance\u001b[39m\u001b[38;5;124m\"\u001b[39m,ascending\u001b[38;5;241m=\u001b[39m\u001b[38;5;28;01mFalse\u001b[39;00m)\n",
      "\u001b[1;31mAttributeError\u001b[0m: 'BaggingRegressor' object has no attribute 'feature_importances_'"
     ]
    }
   ],
   "source": [
    "car_bag = BaggingRegressor()\n",
    "car_bag.fit(X_train_encoded, y_train)\n",
    "pred = car_bag.predict(X_test_encoded)\n",
    "mse = mean_squared_error(y_test, pred)\n",
    "print(f\"MSE: {mse}\")\n",
    "# feature_importances = np.mean([\n",
    "#         est.feature_importances_ for est in car_bag.estimators_\n",
    "#     ], axis=0)\n",
    "    \n",
    "# feature_imp = pd.DataFrame({\"importance\":car_bag.feature_importances_}, index=X_train.columns)\n",
    "# feature_imp.sort_values(by=\"importance\",ascending=False)"
   ]
  },
  {
   "cell_type": "markdown",
   "id": "81449ad5",
   "metadata": {},
   "source": [
    "(e) Use random forests to analyze this data. What test MSE do you obtain? Use the feature_importance_ values to determine\n",
    "which variables are most important. Describe the effect of m, the number of variables considered at each split, on the error rate\n",
    "obtained."
   ]
  },
  {
   "cell_type": "code",
   "execution_count": null,
   "id": "e50147a8",
   "metadata": {
    "kernel": "Python3",
    "tags": [
     "report_cell"
    ]
   },
   "outputs": [],
   "source": []
  },
  {
   "cell_type": "markdown",
   "id": "077deaf4",
   "metadata": {},
   "source": [
    "(f) Now analyze the data using BART, and report your results."
   ]
  },
  {
   "cell_type": "code",
   "execution_count": null,
   "id": "886f4ccb",
   "metadata": {
    "kernel": "Python3",
    "tags": [
     "report_cell"
    ]
   },
   "outputs": [],
   "source": []
  },
  {
   "cell_type": "markdown",
   "id": "481487a9",
   "metadata": {},
   "source": [
    "### OJ\n",
    "\n",
    "This problem involves the OJ data set which is part of the ISLR2 package."
   ]
  },
  {
   "cell_type": "code",
   "execution_count": 92,
   "id": "41dbe1c7",
   "metadata": {
    "kernel": "Python3",
    "tags": [
     "report_cell"
    ]
   },
   "outputs": [],
   "source": [
    "OJ = load_data(\"OJ\")"
   ]
  },
  {
   "cell_type": "markdown",
   "id": "f3642bdd",
   "metadata": {},
   "source": [
    "(a) Create a training set containing a random sample of 800 observations, and a test set containing the remaining observations.\n",
    "\n",
    "Your code:"
   ]
  },
  {
   "cell_type": "code",
   "execution_count": null,
   "id": "b724ac1d",
   "metadata": {
    "Rmd_chunk_options": "echo=TRUE",
    "kernel": "Python3",
    "tags": [
     "report_cell"
    ]
   },
   "outputs": [],
   "source": [
    "#\n",
    "#"
   ]
  },
  {
   "cell_type": "markdown",
   "id": "d7303a57",
   "metadata": {},
   "source": [
    "Your answer:\n",
    "\n",
    "~~~\n",
    "Please write your answer in full sentences.\n",
    "\n",
    "\n",
    "~~~\n",
    "\n",
    "(b) Fit a tree to the training data, with Purchase as the response\n",
    "and the other variables as predictors. What is the training error\n",
    "rate?\n",
    "\n",
    "Your code:"
   ]
  },
  {
   "cell_type": "code",
   "execution_count": null,
   "id": "3b4ea6cb",
   "metadata": {
    "Rmd_chunk_options": "echo=TRUE",
    "kernel": "Python3",
    "tags": [
     "report_cell"
    ]
   },
   "outputs": [],
   "source": [
    "#\n",
    "#"
   ]
  },
  {
   "cell_type": "markdown",
   "id": "30f801b0",
   "metadata": {},
   "source": [
    "Your answer:\n",
    "\n",
    "~~~\n",
    "Please write your answer in full sentences.\n",
    "\n",
    "\n",
    "~~~\n",
    "\n",
    "(c) Create a plot of the tree, and interpret the results. How many terminal nodes does the tree have?\n",
    "Your code:"
   ]
  },
  {
   "cell_type": "code",
   "execution_count": null,
   "id": "b8b23b38",
   "metadata": {
    "Rmd_chunk_options": "echo=TRUE",
    "kernel": "Python3",
    "tags": [
     "report_cell"
    ]
   },
   "outputs": [],
   "source": [
    "#\n",
    "#"
   ]
  },
  {
   "cell_type": "markdown",
   "id": "26ca7eb5",
   "metadata": {},
   "source": [
    "Your answer:\n",
    "\n",
    "~~~\n",
    "Please write your answer in full sentences.\n",
    "\n",
    "\n",
    "~~~\n",
    "\n",
    "(d) Use the export_tree() function to produce a text summary of\n",
    "the fitted tree. Pick one of the terminal nodes, and interpret the\n",
    "information displayed."
   ]
  },
  {
   "cell_type": "code",
   "execution_count": null,
   "id": "2f80b15c",
   "metadata": {
    "kernel": "Python3",
    "tags": [
     "report_cell"
    ]
   },
   "outputs": [],
   "source": []
  },
  {
   "cell_type": "markdown",
   "id": "0f3434b5",
   "metadata": {},
   "source": [
    "(e) Predict the response on the test data, and produce a confusion\n",
    "matrix comparing the test labels to the predicted test labels.\n",
    "What is the test error rate?\n",
    "\n",
    "Your code:"
   ]
  },
  {
   "cell_type": "code",
   "execution_count": null,
   "id": "eb630622",
   "metadata": {
    "Rmd_chunk_options": "echo=TRUE",
    "kernel": "Python3",
    "tags": [
     "report_cell"
    ]
   },
   "outputs": [],
   "source": [
    "#\n",
    "#"
   ]
  },
  {
   "cell_type": "markdown",
   "id": "66ec0679",
   "metadata": {},
   "source": [
    "Your answer:\n",
    "\n",
    "~~~\n",
    "Please write your answer in full sentences.\n",
    "\n",
    "\n",
    "~~~\n",
    "\n",
    "(f) Use cross-validation on the training set in order to determine\n",
    "the optimal tree size.\n",
    "Your code:"
   ]
  },
  {
   "cell_type": "code",
   "execution_count": null,
   "id": "37359959",
   "metadata": {
    "Rmd_chunk_options": "echo=TRUE",
    "kernel": "Python3",
    "tags": [
     "report_cell"
    ]
   },
   "outputs": [],
   "source": [
    "#\n",
    "#"
   ]
  },
  {
   "cell_type": "markdown",
   "id": "3d54c5e8",
   "metadata": {},
   "source": [
    "Your answer:\n",
    "\n",
    "~~~\n",
    "Please write your answer in full sentences.\n",
    "\n",
    "\n",
    "~~~\n",
    "\n",
    "(g) Produce a plot with tree size on the x-axis and cross-validated\n",
    "classification error rate on the y-axis.\n",
    "Your code:"
   ]
  },
  {
   "cell_type": "code",
   "execution_count": null,
   "id": "2a4aa076",
   "metadata": {
    "Rmd_chunk_options": "echo=TRUE",
    "kernel": "Python3",
    "tags": [
     "report_cell"
    ]
   },
   "outputs": [],
   "source": [
    "#\n",
    "#"
   ]
  },
  {
   "cell_type": "markdown",
   "id": "2dd5b8bf",
   "metadata": {},
   "source": [
    "Your answer:\n",
    "\n",
    "~~~\n",
    "Please write your answer in full sentences.\n",
    "\n",
    "\n",
    "~~~\n",
    "\n",
    "(h) Which tree size corresponds to the lowest cross-validated classification error rate?\n",
    "\n",
    "Your code:"
   ]
  },
  {
   "cell_type": "code",
   "execution_count": null,
   "id": "5e57e183",
   "metadata": {
    "Rmd_chunk_options": "echo=TRUE",
    "kernel": "Python3",
    "tags": [
     "report_cell"
    ]
   },
   "outputs": [],
   "source": [
    "#\n",
    "#"
   ]
  },
  {
   "cell_type": "markdown",
   "id": "c1c0bbc5",
   "metadata": {},
   "source": [
    "Your answer:\n",
    "\n",
    "~~~\n",
    "Please write your answer in full sentences.\n",
    "\n",
    "\n",
    "~~~\n",
    "\n",
    "(i) Produce a pruned tree corresponding to the optimal tree size obtained using cross-validation. If cross-validation does not lead\n",
    "to selection of a pruned tree, then create a pruned tree with five terminal nodes.\n",
    "\n",
    "Your code:"
   ]
  },
  {
   "cell_type": "code",
   "execution_count": null,
   "id": "27432083",
   "metadata": {
    "Rmd_chunk_options": "echo=TRUE",
    "kernel": "Python3",
    "tags": [
     "report_cell"
    ]
   },
   "outputs": [],
   "source": [
    "#\n",
    "#"
   ]
  },
  {
   "cell_type": "markdown",
   "id": "f9298adc",
   "metadata": {},
   "source": [
    "Your answer:\n",
    "\n",
    "~~~\n",
    "Please write your answer in full sentences.\n",
    "\n",
    "\n",
    "~~~\n",
    "\n",
    "(j) Compare the training error rates between the pruned and unpruned trees. Which is higher?\n",
    "\n",
    "Your code:"
   ]
  },
  {
   "cell_type": "code",
   "execution_count": null,
   "id": "5464079b",
   "metadata": {
    "Rmd_chunk_options": "echo=TRUE",
    "kernel": "Python3",
    "tags": [
     "report_cell"
    ]
   },
   "outputs": [],
   "source": [
    "#\n",
    "#"
   ]
  },
  {
   "cell_type": "markdown",
   "id": "a1071b7d",
   "metadata": {},
   "source": [
    "Your answer:\n",
    "\n",
    "~~~\n",
    "Please write your answer in full sentences.\n",
    "\n",
    "\n",
    "~~~\n",
    "\n",
    "\n",
    "(k) Compare the test error rates between the pruned and unpruned trees. Which is higher?\n",
    "\n",
    "Your code:"
   ]
  },
  {
   "cell_type": "code",
   "execution_count": null,
   "id": "306fe3fc",
   "metadata": {
    "Rmd_chunk_options": "echo=TRUE",
    "kernel": "Python3",
    "tags": [
     "report_cell"
    ]
   },
   "outputs": [],
   "source": [
    "#\n",
    "#"
   ]
  },
  {
   "cell_type": "markdown",
   "id": "95d77e1f",
   "metadata": {},
   "source": [
    "Your answer:\n",
    "\n",
    "~~~\n",
    "Please write your answer in full sentences.\n",
    "\n",
    "\n",
    "~~~"
   ]
  },
  {
   "cell_type": "markdown",
   "id": "d8f310ba",
   "metadata": {},
   "source": [
    "### Hitters\n",
    "\n",
    "We now use boosting to predict Salary in the Hitters data set."
   ]
  },
  {
   "cell_type": "code",
   "execution_count": null,
   "id": "3c2407bc",
   "metadata": {
    "kernel": "Python3",
    "tags": [
     "report_cell"
    ]
   },
   "outputs": [],
   "source": [
    "Hitters = load_data(\"Hitters\")"
   ]
  },
  {
   "cell_type": "markdown",
   "id": "f5e16093",
   "metadata": {},
   "source": [
    "(a) Remove the observations for whom the salary information is unknown, and then log-transform the salaries.\n",
    "\n",
    "Your code:"
   ]
  },
  {
   "cell_type": "code",
   "execution_count": null,
   "id": "9f3fd328",
   "metadata": {
    "Rmd_chunk_options": "echo=TRUE",
    "kernel": "Python3",
    "tags": [
     "report_cell"
    ]
   },
   "outputs": [],
   "source": [
    "#\n",
    "#"
   ]
  },
  {
   "cell_type": "markdown",
   "id": "19c92289",
   "metadata": {},
   "source": [
    "Your answer:\n",
    "\n",
    "~~~\n",
    "Please write your answer in full sentences.\n",
    "\n",
    "\n",
    "~~~\n",
    "\n",
    "(b) Create a training set consisting of the first 200 observations, and a test set consisting of the remaining observations.\n",
    "\n",
    "Your code:"
   ]
  },
  {
   "cell_type": "code",
   "execution_count": null,
   "id": "69ffe30b",
   "metadata": {
    "Rmd_chunk_options": "echo=TRUE",
    "kernel": "Python3",
    "tags": [
     "report_cell"
    ]
   },
   "outputs": [],
   "source": [
    "#\n",
    "#"
   ]
  },
  {
   "cell_type": "markdown",
   "id": "9a501e56",
   "metadata": {},
   "source": [
    "Your answer:\n",
    "\n",
    "~~~\n",
    "Please write your answer in full sentences.\n",
    "\n",
    "\n",
    "~~~\n",
    "\n",
    "(c) Perform boosting on the training set with 1,000 trees for a range of values of the shrinkage parameter $lambda$. Produce a plot with different shrinkage values on the x-axis and the corresponding\n",
    "training set MSE on the y-axis.\n",
    "\n",
    "Your code:"
   ]
  },
  {
   "cell_type": "code",
   "execution_count": null,
   "id": "81d0ee7f",
   "metadata": {
    "Rmd_chunk_options": "echo=TRUE",
    "kernel": "Python3",
    "tags": [
     "report_cell"
    ]
   },
   "outputs": [],
   "source": [
    "#\n",
    "#"
   ]
  },
  {
   "cell_type": "markdown",
   "id": "f4d190d6",
   "metadata": {},
   "source": [
    "Your answer:\n",
    "\n",
    "~~~\n",
    "Please write your answer in full sentences.\n",
    "\n",
    "\n",
    "~~~\n",
    "\n",
    "(d) Produce a plot with different shrinkage values on the x-axis and the corresponding test set MSE on the y-axis.\n",
    "\n",
    "Your code:"
   ]
  },
  {
   "cell_type": "code",
   "execution_count": null,
   "id": "2c414155",
   "metadata": {
    "Rmd_chunk_options": "echo=TRUE",
    "kernel": "Python3",
    "tags": [
     "report_cell"
    ]
   },
   "outputs": [],
   "source": [
    "#\n",
    "#"
   ]
  },
  {
   "cell_type": "markdown",
   "id": "368a3863",
   "metadata": {},
   "source": [
    "Your answer:\n",
    "\n",
    "~~~\n",
    "Please write your answer in full sentences.\n",
    "\n",
    "\n",
    "~~~\n",
    "\n",
    "(e) Compare the test MSE of boosting to the test MSE that results from applying two of the regression approaches seen in Chapters 3 and 6.\n",
    "\n",
    "Your code:"
   ]
  },
  {
   "cell_type": "code",
   "execution_count": null,
   "id": "006e882c",
   "metadata": {
    "Rmd_chunk_options": "echo=TRUE",
    "kernel": "Python3",
    "tags": [
     "report_cell"
    ]
   },
   "outputs": [],
   "source": [
    "#\n",
    "#"
   ]
  },
  {
   "cell_type": "markdown",
   "id": "45676878",
   "metadata": {},
   "source": [
    "Your answer:\n",
    "\n",
    "~~~\n",
    "Please write your answer in full sentences.\n",
    "\n",
    "\n",
    "~~~\n",
    "\n",
    "(f) Which variables appear to be the most important predictors in the boosted model?\n",
    "\n",
    "Your code:"
   ]
  },
  {
   "cell_type": "code",
   "execution_count": null,
   "id": "e8fce9cc",
   "metadata": {
    "Rmd_chunk_options": "echo=TRUE",
    "kernel": "Python3",
    "tags": [
     "report_cell"
    ]
   },
   "outputs": [],
   "source": [
    "#\n",
    "#"
   ]
  },
  {
   "cell_type": "markdown",
   "id": "04dcbe94",
   "metadata": {},
   "source": [
    "Your answer:\n",
    "\n",
    "~~~\n",
    "Please write your answer in full sentences.\n",
    "\n",
    "\n",
    "~~~\n",
    "\n",
    "(g) Now apply bagging to the training set. What is the test set MSE for this approach?\n",
    "\n",
    "Your code:"
   ]
  },
  {
   "cell_type": "code",
   "execution_count": null,
   "id": "c73b6e57",
   "metadata": {
    "Rmd_chunk_options": "echo=TRUE",
    "kernel": "Python3",
    "tags": [
     "report_cell"
    ]
   },
   "outputs": [],
   "source": [
    "#\n",
    "#"
   ]
  },
  {
   "cell_type": "markdown",
   "id": "6cfe755e",
   "metadata": {},
   "source": [
    "Your answer:\n",
    "\n",
    "~~~\n",
    "Please write your answer in full sentences.\n",
    "\n",
    "\n",
    "~~~"
   ]
  },
  {
   "cell_type": "markdown",
   "id": "9f9e4279",
   "metadata": {},
   "source": [
    "### Caravan\n",
    "\n",
    "This question uses the `Caravan` data set."
   ]
  },
  {
   "cell_type": "code",
   "execution_count": null,
   "id": "42ff0a94",
   "metadata": {
    "kernel": "Python3",
    "tags": [
     "report_cell"
    ]
   },
   "outputs": [],
   "source": [
    "Caravan = load_data(\"Caravan\")"
   ]
  },
  {
   "cell_type": "markdown",
   "id": "6e5ff16a",
   "metadata": {},
   "source": [
    "(a) Create a training set consisting of the first 1,000 observations, and a test set consisting of the remaining observations.\n",
    "\n",
    "Your code:"
   ]
  },
  {
   "cell_type": "code",
   "execution_count": null,
   "id": "a63adff6",
   "metadata": {
    "Rmd_chunk_options": "echo=TRUE",
    "kernel": "Python3",
    "tags": [
     "report_cell"
    ]
   },
   "outputs": [],
   "source": [
    "#\n",
    "#"
   ]
  },
  {
   "cell_type": "markdown",
   "id": "50a4dba8",
   "metadata": {},
   "source": [
    "(b) Fit a boosting model to the training set with `Purchase` as the response and the other variables as predictors. Use 1,000 trees, and a shrinkage value of 0.01. Which predictors appear to be the most important?\n",
    "\n",
    "Your code:"
   ]
  },
  {
   "cell_type": "code",
   "execution_count": null,
   "id": "22a7be6b",
   "metadata": {
    "Rmd_chunk_options": "echo=TRUE",
    "kernel": "Python3",
    "tags": [
     "report_cell"
    ]
   },
   "outputs": [],
   "source": [
    "#\n",
    "#"
   ]
  },
  {
   "cell_type": "markdown",
   "id": "60610372",
   "metadata": {},
   "source": [
    "Your answer:\n",
    "\n",
    "~~~\n",
    "Please write your answer in full sentences.\n",
    "\n",
    "\n",
    "~~~\n",
    "\n",
    "\n",
    "(c) Use the boosting model to predict the response on the test data. Predict that a person will make a purchase if the estimated probability of purchase is greater than 20 %. Form a confusion matrix. What fraction of the people predicted to make a purchase do in fact make one? How does this compare with the results obtained from applying KNN or logistic regression to this data set?\n",
    "\n",
    "Your code:"
   ]
  },
  {
   "cell_type": "code",
   "execution_count": null,
   "id": "0dc8daad",
   "metadata": {
    "Rmd_chunk_options": "echo=TRUE",
    "kernel": "Python3",
    "tags": [
     "report_cell"
    ]
   },
   "outputs": [],
   "source": [
    "#\n",
    "#"
   ]
  },
  {
   "cell_type": "markdown",
   "id": "98f6f5d6",
   "metadata": {},
   "source": [
    "Your answer:\n",
    "\n",
    "~~~\n",
    "Please write your answer in full sentences.\n",
    "\n",
    "\n",
    "~~~"
   ]
  },
  {
   "cell_type": "markdown",
   "id": "adf43ae7",
   "metadata": {},
   "source": [
    "## Additional Material"
   ]
  },
  {
   "cell_type": "markdown",
   "id": "5625c9a0",
   "metadata": {},
   "source": [
    "In this section we will look at other popular tree based methods that are readily available.\n",
    "For classification we will use the [iris dataset](https://scikit-learn.org/stable/auto_examples/datasets/plot_iris_dataset.html) ."
   ]
  },
  {
   "cell_type": "code",
   "execution_count": null,
   "id": "9f7364b1",
   "metadata": {
    "Rmd_chunk_options": "fig.width=12,fig.height=10",
    "kernel": "Python3",
    "tags": [
     "report_cell"
    ]
   },
   "outputs": [],
   "source": [
    "from sklearn import datasets\n",
    "from sklearn.model_selection import train_test_split\n",
    "\n",
    "iris = datasets.load_iris()\n",
    "iris_X=pd.DataFrame(iris.data,columns=iris.feature_names)\n",
    "iris_y=pd.DataFrame(iris.target,columns=['Class'])\n",
    "\n",
    "# split the data\n",
    "X_train0, X_test, y_train0, y_test = train_test_split(iris_X, iris_y, test_size=0.33, random_state=42)\n",
    "trainData = pd.concat([X_train0, y_train0], axis=1)\n",
    "testData  = pd.concat([X_test, y_test], axis=1)"
   ]
  },
  {
   "cell_type": "markdown",
   "id": "10a138e7",
   "metadata": {},
   "source": [
    "### CART graph\n",
    "\n",
    "https://github.com/Sidon/Sidon.github.io/blob/master/_posts/dtree-w1.ipynb"
   ]
  },
  {
   "cell_type": "code",
   "execution_count": null,
   "id": "e670e01d",
   "metadata": {
    "kernel": "Python3",
    "tags": [
     "report_cell"
    ]
   },
   "outputs": [],
   "source": [
    "import matplotlib.pyplot as plt\n",
    "import itertools\n",
    "def plot_confusion_matrix(cm, classes,\n",
    "                          normalize=False,\n",
    "                          title='Confusion matrix',\n",
    "                          cmap=plt.cm.Blues):\n",
    "    \"\"\"\n",
    "    This function prints and plots the confusion matrix.\n",
    "    Normalization can be applied by setting `normalize=True`.\n",
    "    \"\"\"\n",
    "    plt.imshow(cm, interpolation='nearest', cmap=cmap)\n",
    "    plt.title(title)\n",
    "    plt.colorbar()\n",
    "    tick_marks = np.arange(len(classes))\n",
    "    plt.xticks(tick_marks, classes, rotation=45)\n",
    "    plt.yticks(tick_marks, classes)\n",
    "    if normalize:\n",
    "        cm = cm.astype('float') / cm.sum(axis=1)[:, np.newaxis]\n",
    "        print(\"Normalized confusion matrix\")\n",
    "    else:\n",
    "        print('Confusion matrix, without normalization')\n",
    "\n",
    "    print(cm)\n",
    "    thresh = cm.max() / 2.\n",
    "    for i, j in itertools.product(range(cm.shape[0]), range(cm.shape[1])):\n",
    "        plt.text(j, i, cm[i, j],\n",
    "                 horizontalalignment=\"center\",\n",
    "                 color=\"white\" if cm[i, j] > thresh else \"black\")\n",
    "    plt.tight_layout()\n",
    "    plt.ylabel('True')\n",
    "    plt.xlabel('Predicted')"
   ]
  },
  {
   "cell_type": "code",
   "execution_count": null,
   "id": "8b5ea923",
   "metadata": {
    "Rmd_chunk_options": "fig.width=12,fig.height=10",
    "kernel": "Python3",
    "tags": [
     "report_cell"
    ]
   },
   "outputs": [],
   "source": [
    "# Fit CART  Model\n",
    "from sklearn.tree import DecisionTreeClassifier\n",
    "from sklearn import tree\n",
    "from io import StringIO\n",
    "import pydotplus\n",
    "import sklearn\n",
    "import sklearn.metrics\n",
    "from IPython.display import Image\n",
    "out = StringIO()\n",
    "clf = DecisionTreeClassifier()\n",
    "clf = clf.fit(X_train0,y_train0)\n",
    "\n",
    "# you will need to install graphviz\n",
    "tree.export_graphviz(clf, out_file=out, feature_names=iris.feature_names,class_names=['0','1','2'],\n",
    "                     filled=True, rounded=True, special_characters=True)\n",
    "\n",
    "graph=pydotplus.graph_from_dot_data(out.getvalue())\n",
    "Image(graph.create_png())\n",
    "\n",
    "predictions=clf.predict(X_test)\n",
    "confusion_matrix = sklearn.metrics.confusion_matrix(y_test,predictions)\n",
    "plot_confusion_matrix(confusion_matrix,['Setosa','Versicolour','Virginica'])"
   ]
  },
  {
   "cell_type": "markdown",
   "id": "603c86f4",
   "metadata": {},
   "source": [
    "### XGBoost\n",
    "\n",
    "XGBoost became popular due to its success in Kaggle competitions.  It's essentially a gradient boosting but implemented to perform better out of the box.  Some of the nice features include:\n",
    "\n",
    "- Default regularization\n",
    "- Tree growing and pruning scheme allows for multiple cuts\n",
    "- Computational efficiency by parallelization\n",
    "- A couple of default choices to make it easier to use\n",
    "- Handles missing data\n",
    "\n",
    "However, if you want to go deeper, there are some challenges/concerns.\n",
    "\n",
    "- Hyperparameter tuning is hard\n",
    "- Missing data imputation scheme is concerning\n",
    "- Cannot handle categorical variables\n",
    "\n",
    "Here is it used for the iris data."
   ]
  },
  {
   "cell_type": "code",
   "execution_count": null,
   "id": "3db5080f",
   "metadata": {
    "kernel": "Python3",
    "tags": [
     "report_cell"
    ]
   },
   "outputs": [],
   "source": [
    "import xgboost as xgb\n",
    "\n",
    "param = {'max_depth': 2, 'eta': 1, 'objective': 'multi:softmax'}\n",
    "param['nthread'] = 4\n",
    "param['eval_metric'] = 'auc'\n",
    "param['num_class'] = 3\n",
    "\n",
    "num_round = 10\n",
    "\n",
    "dtrain = xgb.DMatrix(X_train0, label=y_train0)\n",
    "dtest = xgb.DMatrix(X_test, label=y_test)\n",
    "evallist = [(dtrain, 'train'), (dtest, 'eval')]\n",
    "bst = xgb.train(param, dtrain, num_round, evallist)\n",
    "ypred = bst.predict(dtest)"
   ]
  },
  {
   "cell_type": "markdown",
   "id": "8b752540",
   "metadata": {},
   "source": [
    "What gets unwieldy is when you start to tune the parameters.\n",
    "Here is the list of parameters used.  Not all of them need tuning, but I hope you understand.\n",
    "\n",
    "- General Parameters that define the overall functionality of XGBoost.\n",
    "  - booster [default=gbtree]: type of model\n",
    "  - silent [default=0]: display log?\n",
    "  - nthread [default to the maximum number of threads available if not set]: number of cores\n",
    "- Learning Task Parameters define the optimization objective and the metric to be calculated at each step.\n",
    "  - objective [default=reg:linear] the loss function to be minimized.\n",
    "  - eval_metric [ default according to objective ] The metric for validation data.\n",
    "  - seed [default=0] The random number seed.\n",
    "- Booster Parameters\n",
    "  - eta [default=0.3]. Analogous to the learning rate in GBM\n",
    "  - min_child_weight [default=1] is the minimum sum of weights of all observations required in a child.\n",
    "  - max_depth [default=6] The maximum depth of a tree, same as GBM.\n",
    "  - max_leaf_nodes  The maximum number of terminal nodes or leaves in a tree.\n",
    "  - gamma [default=0] is the minimum loss reduction required to make a split.\n",
    "  - max_delta_step [default=0]  If it is set to a positive value makes the update step more conservative.\n",
    "  - subsample [default=1] the fraction of observations randomly sampled for each tree.\n",
    "  - colsample_bytree [default=1] is the fraction of columns randomly sampled for each tree.\n",
    "  - colsample_bylevel [default=1] the subsample ratio of columns for each split, in each level.\n",
    "  - lambda [default=1]  L2 regularization term on weights (analogous to Ridge regression)\n",
    "  - alpha [default=0] L1 regularization term on weight (analogous to Lasso regression)\n",
    "  - scale_pos_weight [default=1] >0 for high class imbalance as it helps in faster convergence.\n",
    "\n",
    "Because of this, there is an automatic versiong of xgboost exists. But I was not able to install it on my machine."
   ]
  },
  {
   "cell_type": "code",
   "execution_count": null,
   "id": "93bab0c3",
   "metadata": {
    "Rmd_chunk_options": "eval=FALSE",
    "kernel": "Python3",
    "tags": [
     "report_cell"
    ]
   },
   "outputs": [],
   "source": [
    "#from autoxgb import AutoXGB"
   ]
  },
  {
   "cell_type": "markdown",
   "id": "f552a668",
   "metadata": {},
   "source": [
    "### catboost\n",
    "\n",
    "Catboost is another popular boosting method that in my view popular due to well thought out implementation.\n",
    "The three features that distingishes itself from the other similar models are\n",
    "\n",
    "- Symmetric tree\n",
    "- Ordered Boosting\n",
    "- Categorical Feature Engineering\n",
    "\n",
    "\n",
    " https://catboost.ai/en/docs/concepts/r-usages-examples"
   ]
  },
  {
   "cell_type": "code",
   "execution_count": null,
   "id": "081fd8d5",
   "metadata": {
    "Rmd_chunk_options": "eval=FALSE",
    "kernel": "Python3",
    "tags": [
     "report_cell"
    ]
   },
   "outputs": [],
   "source": [
    "# library(catboost)\n",
    "# # load data\n",
    "# set.seed(1)\n",
    "# idx=sample(1:nrow(iris),nrow(iris)*.7)\n",
    "# train=iris[idx,]\n",
    "# test=iris[-idx,]\n",
    "# fit_control <- caret::trainControl(\n",
    "#   method = \"cv\",\n",
    "#   number = 3,\n",
    "#   search = \"random\",\n",
    "#   classProbs = TRUE\n",
    "# )\n",
    "# # set grid options\n",
    "# grid <- expand.grid(\n",
    "#   depth = c(4, 6, 8),\n",
    "#   learning_rate = 0.1,\n",
    "#   l2_leaf_reg = 0.1,\n",
    "#   rsm = 0.95,\n",
    "#   border_count = 64,\n",
    "#   iterations = 10\n",
    "# )\n",
    "# model <- caret::train(\n",
    "#   x = train[,-5],\n",
    "#   y = train[,5],\n",
    "#   method = catboost.caret,\n",
    "#   metric = \"Accuracy\",\n",
    "#   maximize = TRUE,\n",
    "#   preProc = NULL,\n",
    "#   tuneGrid = grid,\n",
    "#   tuneLength = 30,\n",
    "#   trControl = fit_control\n",
    "# )\n",
    "# table(test$Species,predict(model,test))"
   ]
  },
  {
   "cell_type": "markdown",
   "id": "02ebb07f",
   "metadata": {},
   "source": [
    "### Ensemble model\n",
    "\n",
    "Bagging, Random Forest, and Boosting are examples of ensemble models.\n",
    "The idea is to combine models to get a better result than any individual model can achieve.\n",
    "So far, we’ve combined the same models, but that need not be the case.\n",
    "One way to combine the results is to just average the outcomes from different models.\n",
    "But one need not trust the results from all models equally.\n",
    "An alternative way is to use the predictions as input into a regression model to create weights representing the level of trust in the model.\n",
    "\n",
    "Stacking is easy to implement but even easier if you use caret.\n",
    "For example, if you want to do 10 fold Repeated CV to fit CART, knn, logistic regression,Gaussian Naive Bayes and svc, then combine the results.\n",
    "\n",
    "You can find more details [here](https://machinelearningmastery.com/stacking-ensemble-machine-learning-with-python/)."
   ]
  },
  {
   "cell_type": "code",
   "execution_count": null,
   "id": "a0d28319",
   "metadata": {
    "kernel": "Python3",
    "tags": [
     "report_cell"
    ]
   },
   "outputs": [],
   "source": [
    "# pip install datapackage\n",
    "from datapackage import Package\n",
    "from sklearn.model_selection import RepeatedKFold\n",
    "from sklearn.linear_model import LogisticRegression\n",
    "from sklearn.neighbors import KNeighborsClassifier\n",
    "from sklearn.tree import DecisionTreeClassifier\n",
    "from sklearn.naive_bayes import GaussianNB\n",
    "from sklearn.svm import SVC\n",
    "from sklearn.model_selection import cross_val_score\n",
    "\n",
    "from sklearn.ensemble import StackingClassifier\n",
    "from matplotlib import pyplot\n",
    "\n",
    "package = Package('https://datahub.io/machine-learning/sonar/datapackage.json')\n",
    "resources = package.resources\n",
    "Sonar = pd.read_csv(resources[1].descriptor['path'])\n",
    "\n",
    "Sonar_y=Sonar.loc[:,\"Class\"]\n",
    "Sonar_x=Sonar.drop([\"Class\"], axis=1)\n",
    "\n",
    "level0 = list()\n",
    "level0.append(('lr', LogisticRegression()))\n",
    "level0.append(('knn', KNeighborsClassifier()))\n",
    "level0.append(('cart', DecisionTreeClassifier()))\n",
    "level0.append(('svm', SVC()))\n",
    "level0.append(('bayes', GaussianNB()))\n",
    "# define meta learner model\n",
    "level1 = LogisticRegression()\n",
    "stacking = StackingClassifier(estimators=level0, final_estimator=level1, cv=5)\n",
    "cv = RepeatedKFold(n_splits=10, n_repeats=3)\n",
    "scores = cross_val_score(stacking, Sonar_x, Sonar_y, scoring='accuracy', cv=cv, n_jobs=-1, error_score='raise')"
   ]
  }
 ],
 "metadata": {
  "Rmd_chunk_options": {
   "author": "Masanao Yajima",
   "date": "2023-01-05",
   "output": "html_document",
   "title": "Tree based Ensemble"
  },
  "kernelspec": {
   "display_name": "Python 3 (ipykernel)",
   "language": "python",
   "name": "python3"
  },
  "language_info": {
   "codemirror_mode": {
    "name": "ipython",
    "version": 3
   },
   "file_extension": ".py",
   "mimetype": "text/x-python",
   "name": "python",
   "nbconvert_exporter": "python",
   "pygments_lexer": "ipython3",
   "version": "3.9.0"
  },
  "sos": {
   "kernels": [
    [
     "SoS",
     "sos",
     "",
     ""
    ],
    [
     "R",
     "ir",
     "",
     ""
    ],
    [
     "css",
     "css",
     "",
     ""
    ],
    [
     "Python3",
     "ir",
     "",
     ""
    ]
   ]
  }
 },
 "nbformat": 4,
 "nbformat_minor": 5
}
